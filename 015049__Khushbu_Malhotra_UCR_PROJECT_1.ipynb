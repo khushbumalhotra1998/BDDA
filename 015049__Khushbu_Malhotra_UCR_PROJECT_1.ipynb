{
  "nbformat": 4,
  "nbformat_minor": 0,
  "metadata": {
    "kernelspec": {
      "display_name": "Python 3",
      "language": "python",
      "name": "python3"
    },
    "language_info": {
      "codemirror_mode": {
        "name": "ipython",
        "version": 3
      },
      "file_extension": ".py",
      "mimetype": "text/x-python",
      "name": "python",
      "nbconvert_exporter": "python",
      "pygments_lexer": "ipython3",
      "version": "3.7.3"
    },
    "colab": {
      "name": "015049__Khushbu Malhotra_UCR PROJECT 1.ipynb",
      "provenance": [],
      "collapsed_sections": []
    }
  },
  "cells": [
    {
      "cell_type": "markdown",
      "metadata": {
        "id": "ek9v4cKdcsCR"
      },
      "source": [
        "#UCR ASSINGMENT"
      ]
    },
    {
      "cell_type": "markdown",
      "metadata": {
        "id": "acvhNURJljik"
      },
      "source": [
        "**PROJECT 1**\n",
        "\n",
        "NLP: Perform Text Classification on the attached file Coronavirus tweets using pyspark. You can\n",
        "use any algorithm of your choice. The example we learnt during class can be used for reference"
      ]
    },
    {
      "cell_type": "code",
      "metadata": {
        "id": "xf05bcZvcsCX"
      },
      "source": [
        "from pyspark.sql import SparkSession"
      ],
      "execution_count": null,
      "outputs": []
    },
    {
      "cell_type": "code",
      "metadata": {
        "id": "BE49x5gtcsCX"
      },
      "source": [
        "spark = SparkSession.builder.appName('corona').getOrCreate()"
      ],
      "execution_count": null,
      "outputs": []
    },
    {
      "cell_type": "code",
      "metadata": {
        "id": "vMQh3aSFcsCY"
      },
      "source": [
        "corona=spark.read.csv('', header = True, inferSchema=True,sep= ',')"
      ],
      "execution_count": null,
      "outputs": []
    },
    {
      "cell_type": "code",
      "metadata": {
        "scrolled": false,
        "id": "aBKw6oXzcsCY"
      },
      "source": [
        "corona.show(5)"
      ],
      "execution_count": null,
      "outputs": []
    },
    {
      "cell_type": "code",
      "metadata": {
        "colab": {
          "base_uri": "https://localhost:8080/"
        },
        "id": "uRX9x3N4csCa",
        "outputId": "ab136d50-4715-4b17-e65c-5e33e5805a71"
      },
      "source": [
        "corona = corona.dropDuplicates()\n",
        "print(corona.count(),\",\",len(corona.columns))"
      ],
      "execution_count": null,
      "outputs": [
        {
          "output_type": "stream",
          "name": "stdout",
          "text": [
            "31647 , 6\n"
          ]
        }
      ]
    },
    {
      "cell_type": "code",
      "metadata": {
        "colab": {
          "base_uri": "https://localhost:8080/"
        },
        "id": "Q3fPhyBwcsCb",
        "outputId": "d8d4b162-0d4a-4457-c311-e81cfc5c674c"
      },
      "source": [
        "corona = corona.na.drop()\n",
        "print(corona.count(),\",\",len(corona.columns))"
      ],
      "execution_count": null,
      "outputs": [
        {
          "output_type": "stream",
          "name": "stdout",
          "text": [
            "10696 , 6\n"
          ]
        }
      ]
    },
    {
      "cell_type": "code",
      "metadata": {
        "colab": {
          "base_uri": "https://localhost:8080/"
        },
        "id": "soTIQUtucsCc",
        "outputId": "46ee87aa-ab1a-44c4-970c-7de404558cf4"
      },
      "source": [
        "corona.printSchema()"
      ],
      "execution_count": null,
      "outputs": [
        {
          "output_type": "stream",
          "name": "stdout",
          "text": [
            "root\n",
            " |-- UserName: string (nullable = true)\n",
            " |-- ScreenName: string (nullable = true)\n",
            " |-- Location: string (nullable = true)\n",
            " |-- TweetAt: string (nullable = true)\n",
            " |-- OriginalTweet: string (nullable = true)\n",
            " |-- Sentiment: string (nullable = true)\n",
            "\n"
          ]
        }
      ]
    },
    {
      "cell_type": "code",
      "metadata": {
        "colab": {
          "base_uri": "https://localhost:8080/"
        },
        "id": "5eEW_UDscsCd",
        "outputId": "81fa04cd-c97c-428a-8acb-94b9355c2ab7"
      },
      "source": [
        "corona.columns"
      ],
      "execution_count": null,
      "outputs": [
        {
          "output_type": "execute_result",
          "data": {
            "text/plain": [
              "['UserName', 'ScreenName', 'Location', 'TweetAt', 'OriginalTweet', 'Sentiment']"
            ]
          },
          "metadata": {},
          "execution_count": 10
        }
      ]
    },
    {
      "cell_type": "code",
      "metadata": {
        "id": "OeEqFMNpcsCe"
      },
      "source": [
        "sentiments = ['Positive','Negative','Neutral','Extremely Positive','Extremely Negative']"
      ],
      "execution_count": null,
      "outputs": []
    },
    {
      "cell_type": "code",
      "metadata": {
        "id": "Lkdase8EcsCe"
      },
      "source": [
        "corona = corona.filter(corona.Sentiment.isin(sentiments))"
      ],
      "execution_count": null,
      "outputs": []
    },
    {
      "cell_type": "code",
      "metadata": {
        "scrolled": true,
        "colab": {
          "base_uri": "https://localhost:8080/"
        },
        "id": "vK-eUCrtcsCf",
        "outputId": "ac757550-da93-4764-f596-8e9709d8c117"
      },
      "source": [
        "corona.select('Sentiment').distinct().count()"
      ],
      "execution_count": null,
      "outputs": [
        {
          "output_type": "execute_result",
          "data": {
            "text/plain": [
              "5"
            ]
          },
          "metadata": {},
          "execution_count": 15
        }
      ]
    },
    {
      "cell_type": "code",
      "metadata": {
        "colab": {
          "base_uri": "https://localhost:8080/"
        },
        "id": "Y3T4wW4icsCf",
        "outputId": "3cfebe00-3888-44aa-b28a-d653062956cd"
      },
      "source": [
        "corona.select('Sentiment').distinct().show()"
      ],
      "execution_count": null,
      "outputs": [
        {
          "output_type": "stream",
          "name": "stdout",
          "text": [
            "+------------------+\n",
            "|         Sentiment|\n",
            "+------------------+\n",
            "|Extremely Negative|\n",
            "|           Neutral|\n",
            "|          Positive|\n",
            "|          Negative|\n",
            "|Extremely Positive|\n",
            "+------------------+\n",
            "\n"
          ]
        }
      ]
    },
    {
      "cell_type": "code",
      "metadata": {
        "id": "ifqKU6mQcsCg"
      },
      "source": [
        "from pyspark.sql.functions import length"
      ],
      "execution_count": null,
      "outputs": []
    },
    {
      "cell_type": "code",
      "metadata": {
        "id": "cN0EIVU9csCh"
      },
      "source": [
        "corona=corona.withColumn('length', length(corona['OriginalTweet']))"
      ],
      "execution_count": null,
      "outputs": []
    },
    {
      "cell_type": "code",
      "metadata": {
        "colab": {
          "base_uri": "https://localhost:8080/"
        },
        "id": "Dydc59wXcsCi",
        "outputId": "077f8db9-8228-443e-ee2e-e660cdaaa1d7"
      },
      "source": [
        "corona.show(10)"
      ],
      "execution_count": null,
      "outputs": [
        {
          "output_type": "stream",
          "name": "stdout",
          "text": [
            "+--------+----------+--------------------+----------+--------------------+------------------+------+\n",
            "|UserName|ScreenName|            Location|   TweetAt|       OriginalTweet|         Sentiment|length|\n",
            "+--------+----------+--------------------+----------+--------------------+------------------+------+\n",
            "|    4244|     49196|           worldwide|16-03-2020|#Amazon #delivery...|          Negative|   110|\n",
            "|    4441|     49393|      Staying humble|16-03-2020|I miss going shop...|          Positive|   245|\n",
            "|    4517|     49469|                Kcmo|17-03-2020|Looking for toile...|          Positive|    50|\n",
            "|    5273|     50225|    Toronto, Ontario|17-03-2020|@JackieKarmatica ...|Extremely Positive|   255|\n",
            "|    5478|     50430|    Johnson City, TN|17-03-2020|I'm joining a con...|           Neutral|   134|\n",
            "|    5640|     50592|       Southern Ohio|17-03-2020|T.p. aside I dont...|          Negative|   272|\n",
            "|    5774|     50726|              London|17-03-2020|Got verbally abus...|Extremely Negative|   260|\n",
            "|    5788|     50740|        Johor Baharu|17-03-2020|Covid 19 at Shopp...|          Positive|   116|\n",
            "|    7200|     52152|              London|18-03-2020|#Ocado pulls webs...|          Positive|   210|\n",
            "|    7765|     52717|Sydney, New South...|18-03-2020|To everyone in au...|          Positive|   181|\n",
            "+--------+----------+--------------------+----------+--------------------+------------------+------+\n",
            "only showing top 10 rows\n",
            "\n"
          ]
        }
      ]
    },
    {
      "cell_type": "code",
      "metadata": {
        "id": "WJ3CNiXdcsCi"
      },
      "source": [
        "corona=corona.withColumnRenamed(\"Sentiment\",\"sentiment\")"
      ],
      "execution_count": null,
      "outputs": []
    },
    {
      "cell_type": "code",
      "metadata": {
        "colab": {
          "base_uri": "https://localhost:8080/"
        },
        "id": "-l8900n2csCj",
        "outputId": "6e191a95-fb12-4596-e431-309c1180fd77"
      },
      "source": [
        "corona.groupby('Sentiment').mean().show()"
      ],
      "execution_count": null,
      "outputs": [
        {
          "output_type": "stream",
          "name": "stdout",
          "text": [
            "+------------------+------------------+\n",
            "|         Sentiment|       avg(length)|\n",
            "+------------------+------------------+\n",
            "|Extremely Negative| 211.4938590820944|\n",
            "|          Positive|197.22226148409894|\n",
            "|           Neutral|152.10291777188328|\n",
            "|          Negative| 195.5119139123751|\n",
            "|Extremely Positive|          218.0775|\n",
            "+------------------+------------------+\n",
            "\n"
          ]
        }
      ]
    },
    {
      "cell_type": "code",
      "metadata": {
        "id": "jzGFwkricsCj"
      },
      "source": [
        "from pyspark.ml.feature import Tokenizer, StopWordsRemover, CountVectorizer, IDF, StringIndexer\n",
        "\n",
        "tokenizer=Tokenizer(inputCol=\"OriginalTweet\", outputCol=\"token_text\")\n",
        "stopremove=StopWordsRemover(inputCol=\"token_text\", outputCol=\"stop_tokens\")\n",
        "count_vec=CountVectorizer(inputCol=\"stop_tokens\", outputCol=\"c_vec\")\n",
        "idf=IDF(inputCol=\"c_vec\", outputCol=\"tf_idf\")\n",
        "\n",
        "# we also need to convert our labels in numbers\n",
        "ham_samp_to_num = StringIndexer(inputCol=\"sentiment\", outputCol='label')"
      ],
      "execution_count": null,
      "outputs": []
    },
    {
      "cell_type": "code",
      "metadata": {
        "id": "p_5NmAa2csCj"
      },
      "source": [
        "from pyspark.ml.feature import VectorAssembler\n",
        "from pyspark.ml.linalg import Vector"
      ],
      "execution_count": null,
      "outputs": []
    },
    {
      "cell_type": "code",
      "metadata": {
        "id": "xalaUjiecsCj"
      },
      "source": [
        "clean_up = VectorAssembler(inputCols=['tf_idf','length'], outputCol='features')"
      ],
      "execution_count": null,
      "outputs": []
    },
    {
      "cell_type": "code",
      "metadata": {
        "id": "Kl2aCEYScsCk"
      },
      "source": [
        "from pyspark.ml.classification import NaiveBayes, RandomForestClassifier, DecisionTreeClassifier\n",
        "\n",
        "nb=NaiveBayes()\n",
        "rf=RandomForestClassifier(numTrees=200)\n",
        "dtc=DecisionTreeClassifier(maxDepth=15)"
      ],
      "execution_count": null,
      "outputs": []
    },
    {
      "cell_type": "code",
      "metadata": {
        "id": "vRcCFua_csCr"
      },
      "source": [
        "from pyspark.ml import Pipeline\n",
        "data_prep_pipeline= Pipeline(stages=[ham_samp_to_num, tokenizer, stopremove,count_vec, idf,clean_up])"
      ],
      "execution_count": null,
      "outputs": []
    },
    {
      "cell_type": "code",
      "metadata": {
        "id": "TZYdiVYGcsCr"
      },
      "source": [
        "clean=data_prep_pipeline.fit(df)"
      ],
      "execution_count": null,
      "outputs": []
    },
    {
      "cell_type": "code",
      "metadata": {
        "id": "0ji2zAbccsCr"
      },
      "source": [
        "data=clean.transform(df)"
      ],
      "execution_count": null,
      "outputs": []
    },
    {
      "cell_type": "code",
      "metadata": {
        "colab": {
          "base_uri": "https://localhost:8080/"
        },
        "id": "tirnBkl2csCs",
        "outputId": "7d267259-a451-4cd7-b68d-cf5e25817482"
      },
      "source": [
        "data.show(10)"
      ],
      "execution_count": null,
      "outputs": [
        {
          "output_type": "stream",
          "name": "stdout",
          "text": [
            "+--------+----------+--------------------+----------+--------------------+------------------+------+-----+--------------------+--------------------+--------------------+--------------------+--------------------+\n",
            "|UserName|ScreenName|            Location|   TweetAt|       OriginalTweet|         sentiment|length|label|          token_text|         stop_tokens|               c_vec|              tf_idf|            features|\n",
            "+--------+----------+--------------------+----------+--------------------+------------------+------+-----+--------------------+--------------------+--------------------+--------------------+--------------------+\n",
            "|    4244|     49196|           worldwide|16-03-2020|#Amazon #delivery...|          Negative|   110|  1.0|[#amazon, #delive...|[#amazon, #delive...|(38477,[8,96,550,...|(38477,[8,96,550,...|(38478,[8,96,550,...|\n",
            "|    4441|     49393|      Staying humble|16-03-2020|I miss going shop...|          Positive|   245|  0.0|[i, miss, going, ...|[miss, going, sho...|(38477,[0,13,15,1...|(38477,[0,13,15,1...|(38478,[0,13,15,1...|\n",
            "|    4517|     49469|                Kcmo|17-03-2020|Looking for toile...|          Positive|    50|  0.0|[looking, for, to...|[looking, toilet,...|(38477,[3,4,19,30...|(38477,[3,4,19,30...|(38478,[3,4,19,30...|\n",
            "|    5273|     50225|    Toronto, Ontario|17-03-2020|@JackieKarmatica ...|Extremely Positive|   255|  3.0|[@jackiekarmatica...|[@jackiekarmatica...|(38477,[2,6,15,58...|(38477,[2,6,15,58...|(38478,[2,6,15,58...|\n",
            "|    5478|     50430|    Johnson City, TN|17-03-2020|I'm joining a con...|           Neutral|   134|  2.0|[i'm, joining, a,...|[joining, confere...|(38477,[2,5,8,212...|(38477,[2,5,8,212...|(38478,[2,5,8,212...|\n",
            "|    5640|     50592|       Southern Ohio|17-03-2020|T.p. aside I dont...|          Negative|   272|  1.0|[t.p., aside, i, ...|[t.p., aside, don...|(38477,[3,4,25,44...|(38477,[3,4,25,44...|(38478,[3,4,25,44...|\n",
            "|    5774|     50726|              London|17-03-2020|Got verbally abus...|Extremely Negative|   260|  4.0|[got, verbally, a...|[got, verbally, a...|(38477,[0,13,34,4...|(38477,[0,13,34,4...|(38478,[0,13,34,4...|\n",
            "|    5788|     50740|        Johor Baharu|17-03-2020|Covid 19 at Shopp...|          Positive|   116|  0.0|[covid, 19, at, s...|[covid, 19, shopp...|(38477,[2,9,17,20...|(38477,[2,9,17,20...|(38478,[2,9,17,20...|\n",
            "|    7200|     52152|              London|18-03-2020|#Ocado pulls webs...|          Positive|   210|  0.0|[#ocado, pulls, w...|[#ocado, pulls, w...|(38477,[0,17,18,2...|(38477,[0,17,18,2...|(38478,[0,17,18,2...|\n",
            "|    7765|     52717|Sydney, New South...|18-03-2020|To everyone in au...|          Positive|   181|  0.0|[to, everyone, in...|[everyone, aus, s...|(38477,[0,5,6,24,...|(38477,[0,5,6,24,...|(38478,[0,5,6,24,...|\n",
            "+--------+----------+--------------------+----------+--------------------+------------------+------+-----+--------------------+--------------------+--------------------+--------------------+--------------------+\n",
            "only showing top 10 rows\n",
            "\n"
          ]
        }
      ]
    },
    {
      "cell_type": "code",
      "metadata": {
        "id": "hZsiJLLRcsCs"
      },
      "source": [
        "data=data.select(['label', 'features'])"
      ],
      "execution_count": null,
      "outputs": []
    },
    {
      "cell_type": "code",
      "metadata": {
        "colab": {
          "base_uri": "https://localhost:8080/"
        },
        "id": "o3tXJsmrcsCs",
        "outputId": "f181e799-d157-4dee-bd8c-c6fceb5eb5af"
      },
      "source": [
        "data.show(10)"
      ],
      "execution_count": null,
      "outputs": [
        {
          "output_type": "stream",
          "name": "stdout",
          "text": [
            "+-----+--------------------+\n",
            "|label|            features|\n",
            "+-----+--------------------+\n",
            "|  1.0|(38478,[8,96,550,...|\n",
            "|  0.0|(38478,[0,13,15,1...|\n",
            "|  0.0|(38478,[3,4,19,30...|\n",
            "|  3.0|(38478,[2,6,15,58...|\n",
            "|  2.0|(38478,[2,5,8,212...|\n",
            "|  1.0|(38478,[3,4,25,44...|\n",
            "|  4.0|(38478,[0,13,34,4...|\n",
            "|  0.0|(38478,[2,9,17,20...|\n",
            "|  0.0|(38478,[0,17,18,2...|\n",
            "|  0.0|(38478,[0,5,6,24,...|\n",
            "+-----+--------------------+\n",
            "only showing top 10 rows\n",
            "\n"
          ]
        }
      ]
    },
    {
      "cell_type": "code",
      "metadata": {
        "id": "hQ8vL_XNhMvj"
      },
      "source": [
        "training,testing = data.randomSplit([0.75, 0.25])"
      ],
      "execution_count": null,
      "outputs": []
    },
    {
      "cell_type": "code",
      "metadata": {
        "id": "Mg3FeQc_csCt"
      },
      "source": [
        "spam_prediction=dtc.fit(training)"
      ],
      "execution_count": null,
      "outputs": []
    },
    {
      "cell_type": "code",
      "metadata": {
        "id": "665ORC-2csCu"
      },
      "source": [
        "test_result=spam_prediction.transform(testing)"
      ],
      "execution_count": null,
      "outputs": []
    },
    {
      "cell_type": "code",
      "metadata": {
        "colab": {
          "base_uri": "https://localhost:8080/"
        },
        "id": "ByRDD1ylcsCu",
        "outputId": "8ec89a2f-d624-49d7-85bd-4200a83e2fbc"
      },
      "source": [
        "test_result.show()"
      ],
      "execution_count": null,
      "outputs": [
        {
          "output_type": "stream",
          "name": "stdout",
          "text": [
            "+-----+--------------------+--------------------+--------------------+----------+\n",
            "|label|            features|       rawPrediction|         probability|prediction|\n",
            "+-----+--------------------+--------------------+--------------------+----------+\n",
            "|  0.0|(38478,[0,1,2,26,...|[39.0,0.0,0.0,9.0...|[0.8125,0.0,0.0,0...|       0.0|\n",
            "|  0.0|(38478,[0,1,3,4,5...|[929.0,980.0,503....|[0.28228501975083...|       1.0|\n",
            "|  0.0|(38478,[0,1,3,4,1...|[10.0,0.0,0.0,0.0...|[1.0,0.0,0.0,0.0,...|       0.0|\n",
            "|  0.0|(38478,[0,1,3,4,1...|[929.0,980.0,503....|[0.28228501975083...|       1.0|\n",
            "|  0.0|(38478,[0,1,3,4,1...|[929.0,980.0,503....|[0.28228501975083...|       1.0|\n",
            "|  0.0|(38478,[0,1,3,4,2...|[929.0,980.0,503....|[0.28228501975083...|       1.0|\n",
            "|  0.0|(38478,[0,1,5,13,...|[46.0,8.0,5.0,36....|[0.45544554455445...|       0.0|\n",
            "|  0.0|(38478,[0,1,5,15,...|[929.0,980.0,503....|[0.28228501975083...|       1.0|\n",
            "|  0.0|(38478,[0,1,5,54,...|[0.0,1.0,0.0,7.0,...|[0.0,0.125,0.0,0....|       3.0|\n",
            "|  0.0|(38478,[0,1,6,7,1...|[17.0,1.0,0.0,3.0...|[0.80952380952380...|       0.0|\n",
            "|  0.0|(38478,[0,1,7,26,...|[0.0,0.0,0.0,15.0...|[0.0,0.0,0.0,1.0,...|       3.0|\n",
            "|  0.0|(38478,[0,1,13,14...|[11.0,0.0,0.0,0.0...|[1.0,0.0,0.0,0.0,...|       0.0|\n",
            "|  0.0|(38478,[0,1,13,17...|[4.0,0.0,0.0,0.0,...|[1.0,0.0,0.0,0.0,...|       0.0|\n",
            "|  0.0|(38478,[0,1,13,41...|[267.0,288.0,373....|[0.24745134383688...|       2.0|\n",
            "|  0.0|(38478,[0,1,14,19...|[100.0,43.0,13.0,...|[0.41152263374485...|       0.0|\n",
            "|  0.0|(38478,[0,1,16,68...|[929.0,980.0,503....|[0.28228501975083...|       1.0|\n",
            "|  0.0|(38478,[0,1,29,53...|[929.0,980.0,503....|[0.28228501975083...|       1.0|\n",
            "|  0.0|(38478,[0,1,34,40...|[0.0,0.0,0.0,12.0...|[0.0,0.0,0.0,1.0,...|       3.0|\n",
            "|  0.0|(38478,[0,1,49,54...|[39.0,0.0,0.0,9.0...|[0.8125,0.0,0.0,0...|       0.0|\n",
            "|  0.0|(38478,[0,1,78,10...|[929.0,980.0,503....|[0.28228501975083...|       1.0|\n",
            "+-----+--------------------+--------------------+--------------------+----------+\n",
            "only showing top 20 rows\n",
            "\n"
          ]
        }
      ]
    },
    {
      "cell_type": "code",
      "metadata": {
        "id": "jFnCDma5csCu"
      },
      "source": [
        "from pyspark.ml.evaluation import MulticlassClassificationEvaluator"
      ],
      "execution_count": null,
      "outputs": []
    },
    {
      "cell_type": "code",
      "metadata": {
        "id": "ZrixBbm2csCv"
      },
      "source": [
        "accuracy_evaluation=MulticlassClassificationEvaluator()\n",
        "accuracy=accuracy_evaluation.evaluate(test_results)"
      ],
      "execution_count": null,
      "outputs": []
    },
    {
      "cell_type": "code",
      "metadata": {
        "colab": {
          "base_uri": "https://localhost:8080/"
        },
        "id": "Zb1_N-sqcsCv",
        "outputId": "53199e43-acaf-4e61-faac-f05bd98dbf19"
      },
      "source": [
        "print (\"Accuracy of the model is::\", accuracy)"
      ],
      "execution_count": null,
      "outputs": [
        {
          "output_type": "stream",
          "name": "stdout",
          "text": [
            "Accuracy of the model is:: 0.352999822339585\n"
          ]
        }
      ]
    }
  ]
}