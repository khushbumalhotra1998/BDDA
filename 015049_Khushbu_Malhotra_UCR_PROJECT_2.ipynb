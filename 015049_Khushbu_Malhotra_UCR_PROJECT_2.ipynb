{
  "nbformat": 4,
  "nbformat_minor": 0,
  "metadata": {
    "kernelspec": {
      "display_name": "Python 3",
      "language": "python",
      "name": "python3"
    },
    "language_info": {
      "codemirror_mode": {
        "name": "ipython",
        "version": 3
      },
      "file_extension": ".py",
      "mimetype": "text/x-python",
      "name": "python",
      "nbconvert_exporter": "python",
      "pygments_lexer": "ipython3",
      "version": "3.8.5"
    },
    "colab": {
      "name": "015049_Khushbu Malhotra_UCR PROJECT 2.ipynb",
      "provenance": [],
      "collapsed_sections": []
    }
  },
  "cells": [
    {
      "cell_type": "markdown",
      "metadata": {
        "id": "OKuWIpWme6AY"
      },
      "source": [
        "#UCR ASSINGMENT"
      ]
    },
    {
      "cell_type": "markdown",
      "metadata": {
        "id": "WDxsMGDpYTuN"
      },
      "source": [
        "**PROJECT 2** \n",
        "\n",
        "Go through Kaggle and make a list of datasets available for regression. Select anyone out of the\n",
        " datasets listed by you and execute the regression project in pyspark."
      ]
    },
    {
      "cell_type": "code",
      "metadata": {
        "id": "6EtFBnGOP8i8"
      },
      "source": [
        "from pyspark.sql import SQLContext\n",
        "import seaborn as sn\n",
        "import matplotlib.pyplot as plt "
      ],
      "execution_count": null,
      "outputs": []
    },
    {
      "cell_type": "code",
      "metadata": {
        "id": "MqF-X1psP8i_"
      },
      "source": [
        "sqlContext = SQLContext(sc)\n",
        "data = sqlContext.read.load(\"file:///home/khushbu/Downloads/insurance.csv\",\n",
        "                         format=\"com.databricks.spark.csv\",header=True,inferSchema=True)"
      ],
      "execution_count": null,
      "outputs": []
    },
    {
      "cell_type": "code",
      "metadata": {
        "id": "lvBuNhYqP8jA",
        "outputId": "1d3817d2-645f-4373-b609-36e1d8844ee7"
      },
      "source": [
        "data.count()"
      ],
      "execution_count": null,
      "outputs": [
        {
          "data": {
            "text/plain": [
              "1338"
            ]
          },
          "execution_count": 12,
          "metadata": {},
          "output_type": "execute_result"
        }
      ]
    },
    {
      "cell_type": "code",
      "metadata": {
        "id": "UTYVvwOKP8jC"
      },
      "source": [
        "data.describe()\n",
        "data1 = data.toPandas()"
      ],
      "execution_count": null,
      "outputs": []
    },
    {
      "cell_type": "code",
      "metadata": {
        "id": "kmlF_SGjP8jC",
        "outputId": "f20f0d8b-3a1a-49ce-fcfd-de5bd0ec5ee1"
      },
      "source": [
        "data1.head(5)"
      ],
      "execution_count": null,
      "outputs": [
        {
          "data": {
            "text/html": [
              "<div>\n",
              "<style scoped>\n",
              "    .dataframe tbody tr th:only-of-type {\n",
              "        vertical-align: middle;\n",
              "    }\n",
              "\n",
              "    .dataframe tbody tr th {\n",
              "        vertical-align: top;\n",
              "    }\n",
              "\n",
              "    .dataframe thead th {\n",
              "        text-align: right;\n",
              "    }\n",
              "</style>\n",
              "<table border=\"1\" class=\"dataframe\">\n",
              "  <thead>\n",
              "    <tr style=\"text-align: right;\">\n",
              "      <th></th>\n",
              "      <th>age</th>\n",
              "      <th>sex</th>\n",
              "      <th>bmi</th>\n",
              "      <th>children</th>\n",
              "      <th>smoker</th>\n",
              "      <th>region</th>\n",
              "      <th>charges</th>\n",
              "    </tr>\n",
              "  </thead>\n",
              "  <tbody>\n",
              "    <tr>\n",
              "      <th>0</th>\n",
              "      <td>19</td>\n",
              "      <td>female</td>\n",
              "      <td>27.900</td>\n",
              "      <td>0</td>\n",
              "      <td>yes</td>\n",
              "      <td>southwest</td>\n",
              "      <td>16884.92400</td>\n",
              "    </tr>\n",
              "    <tr>\n",
              "      <th>1</th>\n",
              "      <td>18</td>\n",
              "      <td>male</td>\n",
              "      <td>33.770</td>\n",
              "      <td>1</td>\n",
              "      <td>no</td>\n",
              "      <td>southeast</td>\n",
              "      <td>1725.55230</td>\n",
              "    </tr>\n",
              "    <tr>\n",
              "      <th>2</th>\n",
              "      <td>28</td>\n",
              "      <td>male</td>\n",
              "      <td>33.000</td>\n",
              "      <td>3</td>\n",
              "      <td>no</td>\n",
              "      <td>southeast</td>\n",
              "      <td>4449.46200</td>\n",
              "    </tr>\n",
              "    <tr>\n",
              "      <th>3</th>\n",
              "      <td>33</td>\n",
              "      <td>male</td>\n",
              "      <td>22.705</td>\n",
              "      <td>0</td>\n",
              "      <td>no</td>\n",
              "      <td>northwest</td>\n",
              "      <td>21984.47061</td>\n",
              "    </tr>\n",
              "    <tr>\n",
              "      <th>4</th>\n",
              "      <td>32</td>\n",
              "      <td>male</td>\n",
              "      <td>28.880</td>\n",
              "      <td>0</td>\n",
              "      <td>no</td>\n",
              "      <td>northwest</td>\n",
              "      <td>3866.85520</td>\n",
              "    </tr>\n",
              "  </tbody>\n",
              "</table>\n",
              "</div>"
            ],
            "text/plain": [
              "   age     sex     bmi  children smoker     region      charges\n",
              "0   19  female  27.900         0    yes  southwest  16884.92400\n",
              "1   18    male  33.770         1     no  southeast   1725.55230\n",
              "2   28    male  33.000         3     no  southeast   4449.46200\n",
              "3   33    male  22.705         0     no  northwest  21984.47061\n",
              "4   32    male  28.880         0     no  northwest   3866.85520"
            ]
          },
          "execution_count": 14,
          "metadata": {},
          "output_type": "execute_result"
        }
      ]
    },
    {
      "cell_type": "code",
      "metadata": {
        "id": "ktE00FQ5P8jE",
        "outputId": "0a894a8f-ce36-492b-ca5e-d228eb568631"
      },
      "source": [
        "# VISUALIZATION \n",
        "\n",
        "data.groupby('smoker').count().show()\n",
        "#dx = data.toPandas()\n",
        "sn.barplot(x='children',y='charges', data=data1)\n"
      ],
      "execution_count": null,
      "outputs": [
        {
          "name": "stdout",
          "output_type": "stream",
          "text": [
            "+------+-----+\n",
            "|smoker|count|\n",
            "+------+-----+\n",
            "|    no| 1064|\n",
            "|   yes|  274|\n",
            "+------+-----+\n",
            "\n"
          ]
        },
        {
          "data": {
            "text/plain": [
              "<AxesSubplot:xlabel='children', ylabel='charges'>"
            ]
          },
          "execution_count": 47,
          "metadata": {},
          "output_type": "execute_result"
        },
        {
          "data": {
            "image/png": "[encoded data removed]",
            "text/plain": [
              "<Figure size 432x288 with 1 Axes>"
            ]
          },
          "metadata": {
            "needs_background": "light"
          },
          "output_type": "display_data"
        }
      ]
    },
    {
      "cell_type": "code",
      "metadata": {
        "id": "2Z9YK4lDP8jG",
        "outputId": "ca013c4a-6b2e-4c10-995d-24a436f3b7a7"
      },
      "source": [
        "plt.figure(figsize=(12,8))\n",
        "sn.barplot(x='age',y='charges', data=data1)\n",
        "plt.title('Age Vs charges')"
      ],
      "execution_count": null,
      "outputs": [
        {
          "data": {
            "text/plain": [
              "Text(0.5, 1.0, 'Age Vs charges')"
            ]
          },
          "execution_count": 49,
          "metadata": {},
          "output_type": "execute_result"
        },
        {
          "data": {
            "image/png": "[encoded data removed]",
            "text/plain": [
              "<Figure size 864x576 with 1 Axes>"
            ]
          },
          "metadata": {
            "needs_background": "light"
          },
          "output_type": "display_data"
        }
      ]
    },
    {
      "cell_type": "code",
      "metadata": {
        "id": "fldbMtfzP8jJ",
        "outputId": "f9b138b9-9934-45f2-b156-31d26825bd75"
      },
      "source": [
        "clean_val = {\"sex\": {\"male\":1,\"female\":2} , \"smoker\": {\"yes\":1,\"no\":0}}\n",
        "data1 = data1.replace(clean_val) # replacing all the useful categorical values\n",
        "#data1.head(5)\n",
        "df=spark.createDataFrame(data1)\n",
        "df.head(5)"
      ],
      "execution_count": null,
      "outputs": [
        {
          "data": {
            "text/plain": [
              "[Row(age=19, sex=2, bmi=27.9, children=0, smoker=1, region='southwest', charges=16884.924),\n",
              " Row(age=18, sex=1, bmi=33.77, children=1, smoker=0, region='southeast', charges=1725.5523),\n",
              " Row(age=28, sex=1, bmi=33.0, children=3, smoker=0, region='southeast', charges=4449.462),\n",
              " Row(age=33, sex=1, bmi=22.705, children=0, smoker=0, region='northwest', charges=21984.47061),\n",
              " Row(age=32, sex=1, bmi=28.88, children=0, smoker=0, region='northwest', charges=3866.8552)]"
            ]
          },
          "execution_count": 50,
          "metadata": {},
          "output_type": "execute_result"
        }
      ]
    },
    {
      "cell_type": "code",
      "metadata": {
        "id": "6E3j5wrxP8jK",
        "outputId": "79c74b9a-0725-427f-b88d-1809b4c3a800"
      },
      "source": [
        "from pyspark.sql.functions import col\n",
        "finaldf=df.drop(df.region)\n",
        "finaldf.printSchema()"
      ],
      "execution_count": null,
      "outputs": [
        {
          "name": "stdout",
          "output_type": "stream",
          "text": [
            "root\n",
            " |-- age: long (nullable = true)\n",
            " |-- sex: long (nullable = true)\n",
            " |-- bmi: double (nullable = true)\n",
            " |-- children: long (nullable = true)\n",
            " |-- smoker: long (nullable = true)\n",
            " |-- charges: double (nullable = true)\n",
            "\n"
          ]
        }
      ]
    },
    {
      "cell_type": "code",
      "metadata": {
        "id": "zHlOIg0DP8jL",
        "outputId": "c6bb7b19-6711-4146-b66f-403c4aefec15"
      },
      "source": [
        "# To CHECK FOR NULL VALUES \n",
        "\n",
        "from pyspark.sql.functions import col\n",
        "for i in finaldf.columns:\n",
        "    print(finaldf.where(col(i).isNull()).count())\n"
      ],
      "execution_count": null,
      "outputs": [
        {
          "name": "stdout",
          "output_type": "stream",
          "text": [
            "0\n",
            "0\n",
            "0\n",
            "0\n",
            "0\n",
            "0\n"
          ]
        }
      ]
    },
    {
      "cell_type": "code",
      "metadata": {
        "id": "ypp_DCcwP8jM"
      },
      "source": [
        "feature = ['age', 'sex', 'bmi', 'children', 'smoker']\n",
        "from pyspark.ml.feature import VectorAssembler\n",
        "#let's assemble our features together using vectorAssembler\n",
        "assembler = VectorAssembler(\n",
        "    inputCols=finaldf.columns,\n",
        "    outputCol=\"features\")\n",
        "\n",
        "output = assembler.transform(finaldf).select('features','charges')"
      ],
      "execution_count": null,
      "outputs": []
    },
    {
      "cell_type": "code",
      "metadata": {
        "id": "pD9ImenHP8jM"
      },
      "source": [
        "train,test = output.randomSplit([0.75, 0.25])"
      ],
      "execution_count": null,
      "outputs": []
    },
    {
      "cell_type": "code",
      "metadata": {
        "id": "VVvqXjiVP8jN",
        "outputId": "1c8ae831-ee01-4e8b-9446-85bd36cf87ed"
      },
      "source": [
        "train.show()"
      ],
      "execution_count": null,
      "outputs": [
        {
          "name": "stdout",
          "output_type": "stream",
          "text": [
            "+--------------------+----------+\n",
            "|            features|   charges|\n",
            "+--------------------+----------+\n",
            "|[18.0,1.0,15.96,0...| 1694.7964|\n",
            "|[18.0,1.0,23.75,0...| 1705.6245|\n",
            "|[18.0,1.0,29.37,1...| 1719.4363|\n",
            "|[18.0,1.0,31.68,2...|34303.1672|\n",
            "|[18.0,1.0,34.1,0....|  1137.011|\n",
            "|[18.0,1.0,34.43,0...| 1137.4697|\n",
            "|[18.0,2.0,26.315,...|2198.18985|\n",
            "|[18.0,2.0,26.73,0...| 1615.7667|\n",
            "|[18.0,2.0,30.115,...|21344.8467|\n",
            "|[18.0,2.0,36.85,0...|36149.4835|\n",
            "|[18.0,2.0,38.28,0...| 1631.8212|\n",
            "|[18.0,2.0,38.665,...|3393.35635|\n",
            "|[19.0,1.0,20.425,...|1625.43375|\n",
            "|[19.0,1.0,20.9,1....|  1832.094|\n",
            "|[19.0,1.0,24.6,1....|  1837.237|\n",
            "|[19.0,1.0,25.555,...|1632.56445|\n",
            "|[19.0,1.0,27.7,0....| 16297.846|\n",
            "|[19.0,1.0,28.4,1....|  1842.519|\n",
            "|[19.0,1.0,34.1,0....|  1261.442|\n",
            "|[19.0,1.0,34.8,0....| 34779.615|\n",
            "+--------------------+----------+\n",
            "only showing top 20 rows\n",
            "\n"
          ]
        }
      ]
    },
    {
      "cell_type": "code",
      "metadata": {
        "id": "nu9GBe_YP8jO",
        "outputId": "e12f4609-b8f1-4d6f-c3b9-ed6e8f7d0dfe"
      },
      "source": [
        "test.show()"
      ],
      "execution_count": null,
      "outputs": [
        {
          "name": "stdout",
          "output_type": "stream",
          "text": [
            "+--------------------+-----------+\n",
            "|            features|    charges|\n",
            "+--------------------+-----------+\n",
            "|[18.0,1.0,17.29,2...| 12829.4551|\n",
            "|[18.0,1.0,22.99,0...|  1704.5681|\n",
            "|[18.0,1.0,25.175,...|15518.18025|\n",
            "|[18.0,1.0,33.77,1...|  1725.5523|\n",
            "|[18.0,2.0,35.625,...| 2211.13075|\n",
            "|[19.0,1.0,20.615,...| 2803.69785|\n",
            "|[19.0,1.0,29.07,0...| 17352.6803|\n",
            "|[19.0,1.0,30.59,0...|  1639.5631|\n",
            "|[19.0,1.0,31.92,0...| 33750.2918|\n",
            "|[19.0,2.0,17.8,0....|   1727.785|\n",
            "|[20.0,1.0,28.025,...|17560.37975|\n",
            "|[20.0,2.0,22.42,0...| 14711.7438|\n",
            "|[20.0,2.0,28.785,...| 2457.21115|\n",
            "|[20.0,2.0,28.975,...| 2257.47525|\n",
            "|[20.0,2.0,37.0,5....|    4830.63|\n",
            "|[22.0,2.0,24.3,0....|   2150.469|\n",
            "|[22.0,2.0,28.05,0...|  2155.6815|\n",
            "|[23.0,1.0,23.845,...| 2395.17155|\n",
            "|[23.0,1.0,34.4,0....|   1826.843|\n",
            "|[23.0,2.0,36.67,2...| 38511.6283|\n",
            "+--------------------+-----------+\n",
            "only showing top 20 rows\n",
            "\n"
          ]
        }
      ]
    },
    {
      "cell_type": "code",
      "metadata": {
        "id": "AqGhaAolP8jO",
        "outputId": "bea56c4e-0dbf-4d85-b4e1-34a7d8435204"
      },
      "source": [
        "from pyspark.ml.regression import LinearRegression\n",
        "\n",
        "lr = LinearRegression(maxIter=10, regParam=0.3, elasticNetParam=0.8,featuresCol='features',labelCol='charges')\n",
        "\n",
        "# Fit the model\n",
        "lrModel = lr.fit(train)\n",
        "\n",
        "# Print the coefficients and intercept for linear regression\n",
        "print(\"Coefficients: %s\" % str(lrModel.coefficients))\n",
        "print(\"Intercept: %s\" % str(lrModel.intercept))\n",
        "\n",
        "# Summarize the model over the training set and print out some metrics\n",
        "trainingSummary = lrModel.summary\n",
        "print(\"numIterations: %d\" % trainingSummary.totalIterations)\n",
        "print(\"objectiveHistory: %s\" % str(trainingSummary.objectiveHistory))\n",
        "#trainingSummary.residuals.show()\n",
        "print(\"RMSE: %f\" % trainingSummary.rootMeanSquaredError)\n",
        "print(\"r2: %f\" % trainingSummary.r2)"
      ],
      "execution_count": null,
      "outputs": [
        {
          "name": "stdout",
          "output_type": "stream",
          "text": [
            "Coefficients: [0.0,-0.028300805450184156,0.0,0.30862335129797014,-0.0,0.9997853136367303]\n",
            "Intercept: 2.5764408910145855\n",
            "numIterations: 11\n",
            "objectiveHistory: [0.4999999999999999, 0.37058205938748195, 0.11225717398527305, 0.0448280393566872, 0.018384133313536798, 0.015570748492634769, 0.0010011631817823262, 0.00026858818352001483, 3.1634527990072916e-05, 2.1978509660486884e-05, 2.19706395834983e-05]\n",
            "RMSE: 2.639784\n",
            "r2: 1.000000\n"
          ]
        }
      ]
    },
    {
      "cell_type": "code",
      "metadata": {
        "id": "gB37DG9fP8jP"
      },
      "source": [
        "from pyspark.ml import Pipeline\n",
        "from pyspark.ml.regression import DecisionTreeRegressor\n",
        "from pyspark.ml.feature import VectorIndexer\n",
        "from pyspark.ml.evaluation import RegressionEvaluator\n",
        "\n",
        "\n",
        "featureIndexer = VectorIndexer(inputCol=\"features\", outputCol=\"indexedFeatures\", maxCategories=4).fit(output)\n",
        "dt = DecisionTreeRegressor(featuresCol=\"features\",labelCol='charges')\n",
        "pipeline = Pipeline(stages=[featureIndexer, dt])\n",
        "model = pipeline.fit(train)\n",
        "\n",
        "# Making predictions.\n",
        "predictions = model.transform(test)\n",
        "\n",
        "\n"
      ],
      "execution_count": null,
      "outputs": []
    },
    {
      "cell_type": "code",
      "metadata": {
        "id": "Ur2Y3g_cP8jQ",
        "outputId": "63817417-bfab-4843-da83-bdca205dfff9"
      },
      "source": [
        "predictions.select(\"prediction\", \"charges\", \"features\").show(5)\n",
        "evaluator = RegressionEvaluator(\n",
        "    labelCol=\"charges\", predictionCol=\"prediction\", metricName=\"rmse\")\n",
        "rmse = evaluator.evaluate(predictions)\n",
        "print(\"Root Mean Squared Error (RMSE) on test data = %g\" % rmse)"
      ],
      "execution_count": null,
      "outputs": [
        {
          "name": "stdout",
          "output_type": "stream",
          "text": [
            "+------------------+-----------+--------------------+\n",
            "|        prediction|    charges|            features|\n",
            "+------------------+-----------+--------------------+\n",
            "|12584.726376935483| 12829.4551|[18.0,1.0,17.29,2...|\n",
            "|1757.6029391304346|  1704.5681|[18.0,1.0,22.99,0...|\n",
            "|16148.382882222222|15518.18025|[18.0,1.0,25.175,...|\n",
            "|1757.6029391304346|  1725.5523|[18.0,1.0,33.77,1...|\n",
            "|1757.6029391304346| 2211.13075|[18.0,2.0,35.625,...|\n",
            "+------------------+-----------+--------------------+\n",
            "only showing top 5 rows\n",
            "\n",
            "Root Mean Squared Error (RMSE) on test data = 878.971\n"
          ]
        }
      ]
    },
    {
      "cell_type": "code",
      "metadata": {
        "id": "eD4iMMqWP8jR"
      },
      "source": [
        ""
      ],
      "execution_count": null,
      "outputs": []
    }
  ]
}